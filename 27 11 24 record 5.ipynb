{
 "cells": [
  {
   "cell_type": "code",
   "execution_count": 3,
   "id": "30ce422b",
   "metadata": {},
   "outputs": [
    {
     "name": "stdout",
     "output_type": "stream",
     "text": [
      "Enter the first number:5\n",
      "Enter the second number:7\n",
      "The GCD of5 and 7 is1\n"
     ]
    }
   ],
   "source": [
    "#FIND THE GCD OF TWO NUMBERS\n",
    "import math\n",
    "n1=int(input(\"Enter the first number:\"))\n",
    "n2=int(input(\"Enter the second number:\"))\n",
    "gcd=math.gcd(n1,n2)\n",
    "print(f\"The GCD of{n1} and {n2} is{gcd}\")"
   ]
  },
  {
   "cell_type": "code",
   "execution_count": 6,
   "id": "a59e2d5a",
   "metadata": {},
   "outputs": [
    {
     "name": "stdout",
     "output_type": "stream",
     "text": [
      "Enter a list of integers(space-separated):1 2 3 4 5\n",
      "List after removing even numbers: [1, 3, 5]\n"
     ]
    }
   ],
   "source": [
    "#FROM A LIST OF INTEGERS,CREATE A LIST REMOVING EVEN NUMBERS\n",
    "numbers=list(map(int,input(\"Enter a list of integers(space-separated):\").split()))\n",
    "odd_numbers=[num for num in numbers if num % 2 !=0]\n",
    "print(\"List after removing even numbers:\",odd_numbers)"
   ]
  },
  {
   "cell_type": "code",
   "execution_count": 7,
   "id": "84b50caa",
   "metadata": {},
   "outputs": [
    {
     "name": "stdout",
     "output_type": "stream",
     "text": [
      "Enter the list of integers:1 4 8 7 4\n",
      "The sum of all items is: 24\n"
     ]
    }
   ],
   "source": [
    "#FIND THE SUM OF ALL ITEMS IN A LIST\n",
    "numbers=list(map(int,input(\"Enter the list of integers:\").split()))\n",
    "total_sum=sum(numbers)\n",
    "print(\"The sum of all items is:\",total_sum)             "
   ]
  },
  {
   "cell_type": "code",
   "execution_count": 8,
   "id": "ba46a0da",
   "metadata": {},
   "outputs": [
    {
     "name": "stdout",
     "output_type": "stream",
     "text": [
      "Enter a string:banana\n",
      "[a] occurs: 3 times\n",
      "[b] occurs: 1 times\n",
      "[n] occurs: 2 times\n"
     ]
    }
   ],
   "source": [
    "#COUNT THE NUMBER OF CHARACTERS(CHARACTER FREQUENCY)IN A STRING\n",
    "word=input(\"Enter a string:\")\n",
    "count=[]\n",
    "for char in set(word):\n",
    "    print(f\"[{char}] occurs: {word.count(char)} times\")"
   ]
  },
  {
   "cell_type": "code",
   "execution_count": 12,
   "id": "69d9fb74",
   "metadata": {},
   "outputs": [
    {
     "name": "stdout",
     "output_type": "stream",
     "text": [
      "Enter a string:Learning\n",
      "Word : learningly\n"
     ]
    }
   ],
   "source": [
    "#ADD 'ING'AT THE END OF A GIVEN STRING.\n",
    "word=input(\"Enter a string:\").lower()\n",
    "if word.endswith('ing'):\n",
    "    print(\"Word :\",word + 'ly')\n",
    "else:\n",
    "    print(\"Word:\",word + 'ing')\n",
    "    "
   ]
  },
  {
   "cell_type": "code",
   "execution_count": 13,
   "id": "f37da7f0",
   "metadata": {},
   "outputs": [
    {
     "name": "stdout",
     "output_type": "stream",
     "text": [
      "Enter the starting index:1000\n",
      "Enter the ending index:9999\n",
      "Four-digit numbers even perfect squares numbers = [4624, 6084, 6400, 8464]\n"
     ]
    }
   ],
   "source": [
    "#GENERATE A LIST OF FOUR DIGIT NUMBERS IN A GIVEN RANGE\n",
    "import math\n",
    "start=int(input(\"Enter the starting index:\"))\n",
    "end=int(input(\"Enter the ending index:\"))\n",
    "start = max(1000,start)\n",
    "end=min(9999,end)\n",
    "result =[]\n",
    "for i in range(start,end+1):\n",
    "    if int(math.sqrt(i)) ** 2 == i and all(int(digit) % 2 == 0 for digit in str(i)):\n",
    "        result.append(i)\n",
    "print(\"Four-digit numbers even perfect squares numbers =\",result)"
   ]
  },
  {
   "cell_type": "code",
   "execution_count": null,
   "id": "a5d93892",
   "metadata": {},
   "outputs": [],
   "source": []
  }
 ],
 "metadata": {
  "kernelspec": {
   "display_name": "Python 3 (ipykernel)",
   "language": "python",
   "name": "python3"
  },
  "language_info": {
   "codemirror_mode": {
    "name": "ipython",
    "version": 3
   },
   "file_extension": ".py",
   "mimetype": "text/x-python",
   "name": "python",
   "nbconvert_exporter": "python",
   "pygments_lexer": "ipython3",
   "version": "3.11.4"
  }
 },
 "nbformat": 4,
 "nbformat_minor": 5
}
