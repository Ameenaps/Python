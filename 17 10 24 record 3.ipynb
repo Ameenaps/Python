{
 "cells": [
  {
   "cell_type": "code",
   "execution_count": 8,
   "id": "47161b8d",
   "metadata": {},
   "outputs": [
    {
     "name": "stdout",
     "output_type": "stream",
     "text": [
      "Enter the word:python\n",
      "before swapping: python\n",
      "after swapping: nythop\n"
     ]
    }
   ],
   "source": [
    "str=(input(\"Enter the word:\"))\n",
    "print(\"before swapping:\",str)\n",
    "s=str[0]\n",
    "e=str[-1]\n",
    "res=e+str[1:-1]+s\n",
    "print(\"after swapping:\",res)"
   ]
  },
  {
   "cell_type": "code",
   "execution_count": 7,
   "id": "4e4b53ee",
   "metadata": {},
   "outputs": [
    {
     "name": "stdout",
     "output_type": "stream",
     "text": [
      "Enter the first word:abc\n",
      "Enter the second word:rst\n",
      "Before Swap: abc   rst\n",
      "After Swap : rsc   abt\n"
     ]
    }
   ],
   "source": [
    "a=(input(\"Enter the first word:\"))\n",
    "b=(input(\"Enter the second word:\"))\n",
    "print(\"Before Swap:\",a,\" \",b)\n",
    "m=b[:2] + a[2:]\n",
    "n=a[:2] + b[2:]\n",
    "print(\"After Swap :\",m,\" \",n)"
   ]
  },
  {
   "cell_type": "code",
   "execution_count": 1,
   "id": "293d44ab",
   "metadata": {},
   "outputs": [
    {
     "name": "stdout",
     "output_type": "stream",
     "text": [
      "Enter the string:onion\n",
      "new string: oni$n\n"
     ]
    }
   ],
   "source": [
    "s=str(input(\"Enter the string:\"))\n",
    "a=s[0]\n",
    "b=s[1:]\n",
    "st=b.replace(a,\"$\")\n",
    "ns=s[0] + st\n",
    "print(\"new string:\",ns)"
   ]
  },
  {
   "cell_type": "code",
   "execution_count": 2,
   "id": "b416e774",
   "metadata": {},
   "outputs": [
    {
     "name": "stdout",
     "output_type": "stream",
     "text": [
      "Enter the Name of color : green,red,blue\n",
      "The First Color :  green\n",
      "The Last  Color :  blue\n"
     ]
    }
   ],
   "source": [
    "s=str(input(\"Enter the Name of color : \"))\n",
    "p=s.split(\",\")\n",
    "print(\"The First Color : \",p[0])\n",
    "print(\"The Last  Color : \",p[-1])"
   ]
  },
  {
   "cell_type": "code",
   "execution_count": 6,
   "id": "ae2df553",
   "metadata": {},
   "outputs": [
    {
     "name": "stdout",
     "output_type": "stream",
     "text": [
      "Enter the File Name : link.html\n",
      "The Extension File is :  html\n"
     ]
    }
   ],
   "source": [
    "s=str(input(\"Enter the File Name : \"))\n",
    "p=s.split(\".\")\n",
    "print(\"The Extension File is : \",p[-1])"
   ]
  },
  {
   "cell_type": "code",
   "execution_count": 9,
   "id": "fb9b7502",
   "metadata": {},
   "outputs": [
    {
     "name": "stdout",
     "output_type": "stream",
     "text": [
      "Enter the numbers:1,2,3,4,5,6,7,8\n",
      "The tuple= ('1', '2', '3', '4', '5', '6', '7', '8')\n",
      "Third one in tuple=3\tlast third in tuple=6\n"
     ]
    }
   ],
   "source": [
    "mt=tuple(input(\"Enter the numbers:\").split(\",\"))\n",
    "print(\"The tuple=\",mt)\n",
    "print(\"Third one in tuple=\"+mt[2]+\"\\tlast third in tuple=\"+mt[-3])"
   ]
  },
  {
   "cell_type": "code",
   "execution_count": 1,
   "id": "c4eafa94",
   "metadata": {},
   "outputs": [
    {
     "name": "stdout",
     "output_type": "stream",
     "text": [
      "Enter colors for set f : red,blue\n",
      "Enter colors for set s : green,yellow,white\n",
      "Difference of {'blue', 'red'} and {'white', 'yellow', 'green'}:{'blue', 'red'}\n"
     ]
    }
   ],
   "source": [
    "f=set(input(\"Enter colors for set f : \").split(\",\"))\n",
    "s=set(input(\"Enter colors for set s : \").split(\",\"))\n",
    "difference_f_s=f-s\n",
    "print(f'Difference of {f} and {s}:{difference_f_s}')\n"
   ]
  },
  {
   "cell_type": "code",
   "execution_count": 2,
   "id": "6b4811ee",
   "metadata": {},
   "outputs": [
    {
     "name": "stdout",
     "output_type": "stream",
     "text": [
      "Enter 3 student name separated by comma:aami,rashi,ani\n",
      "Students sorted in ascending order: {0: 'aami', 1: 'rashi', 2: 'ani'}\n",
      "Students sorted in descending order: {2: 'ani', 1: 'rashi', 0: 'aami'}\n"
     ]
    }
   ],
   "source": [
    "student_names=input(\"Enter 3 student name separated by comma:\").split(',')\n",
    "students = dict(enumerate(student_names))\n",
    "print(\"Students sorted in ascending order:\",dict(sorted(students.items())))\n",
    "print(\"Students sorted in descending order:\",dict(sorted(students.items(),reverse=True)))\n",
    "\n"
   ]
  },
  {
   "cell_type": "code",
   "execution_count": 4,
   "id": "5dc4fb0c",
   "metadata": {},
   "outputs": [
    {
     "name": "stdout",
     "output_type": "stream",
     "text": [
      "Enter the name of student 1: ameena\n",
      "Enter the name of student 2: aneesa\n",
      "Enter the name of student 3: rashika\n",
      "dic1 {'student1': 'ameena', 'student2': 'aneesa', 'student3': 'rashika'}\n",
      "Enter the name of student 4: aisha\n",
      "Enter the name of student 5: athulya\n",
      "dic2 {'student4': 'aisha', 'student5': 'athulya'}\n",
      "\n",
      "Merged Dictionary:\n",
      "{'student1': 'ameena', 'student2': 'aneesa', 'student3': 'rashika', 'student4': 'aisha', 'student5': 'athulya'}\n"
     ]
    }
   ],
   "source": [
    "dic1={\n",
    "    'student1' :input(\"Enter the name of student 1: \"),\n",
    "    'student2' :input(\"Enter the name of student 2: \"),\n",
    "    'student3' :input(\"Enter the name of student 3: \"),\n",
    "}\n",
    "print(\"dic1\",dic1)\n",
    "dic2={\n",
    "    'student4' :input(\"Enter the name of student 4: \"),\n",
    "    'student5' :input(\"Enter the name of student 5: \"),\n",
    "}\n",
    "print(\"dic2\",dic2)\n",
    "merged_dict= {**dic1,**dic2}\n",
    "print(\"\\nMerged Dictionary:\")\n",
    "print(merged_dict)"
   ]
  },
  {
   "cell_type": "code",
   "execution_count": 5,
   "id": "0afb9a41",
   "metadata": {},
   "outputs": [
    {
     "name": "stdout",
     "output_type": "stream",
     "text": [
      "The even number from 0-25= [0, 2, 4, 6, 8, 10, 12, 14, 16, 18, 20, 22, 24]\n",
      "sum of even number 0-25: 156\n"
     ]
    }
   ],
   "source": [
    "num=range(0,25,2)\n",
    "print(\"The even number from 0-25=\",list(num))\n",
    "print(\"sum of even number 0-25:\",sum(num))\n",
    "        "
   ]
  },
  {
   "cell_type": "code",
   "execution_count": null,
   "id": "bb4b7edf",
   "metadata": {},
   "outputs": [],
   "source": []
  }
 ],
 "metadata": {
  "kernelspec": {
   "display_name": "Python 3 (ipykernel)",
   "language": "python",
   "name": "python3"
  },
  "language_info": {
   "codemirror_mode": {
    "name": "ipython",
    "version": 3
   },
   "file_extension": ".py",
   "mimetype": "text/x-python",
   "name": "python",
   "nbconvert_exporter": "python",
   "pygments_lexer": "ipython3",
   "version": "3.11.4"
  }
 },
 "nbformat": 4,
 "nbformat_minor": 5
}
