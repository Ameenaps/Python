{
 "cells": [
  {
   "cell_type": "code",
   "execution_count": null,
   "id": "14f467f0",
   "metadata": {
    "scrolled": true
   },
   "outputs": [
    {
     "name": "stdout",
     "output_type": "stream",
     "text": [
      "1.Rectangle\n",
      "2.Circle\n",
      "3.Exit\n",
      "Enter your choice:1\n",
      "Enter length4\n",
      "Enter breadth6\n",
      "Area of Rectangle: 24\n",
      "Perimeter of rectangle: 20\n",
      "1.Rectangle\n",
      "2.Circle\n",
      "3.Exit\n",
      "Enter your choice:2\n",
      "Enter radius5\n",
      "Area of Circle: 78.5\n",
      "Perimeter of circle: 31.400000000000002\n",
      "1.Rectangle\n",
      "2.Circle\n",
      "3.Exit\n"
     ]
    }
   ],
   "source": [
    "#MODULES\n",
    "import rectangle\n",
    "import circle1\n",
    "while(1):\n",
    "    print(\"1.Rectangle\\n2.Circle\\n3.Exit\")\n",
    "    ch=int(input(\"Enter your choice:\"))\n",
    "    if ch==1:\n",
    "        l=int(input(\"Enter length\"))\n",
    "        b=int(input(\"Enter breadth\"))\n",
    "        rectangle.rectarea(l,b)\n",
    "        rectangle.rectperi(l,b)\n",
    "    elif ch==2:\n",
    "        r=int(input(\"Enter radius\"))\n",
    "        circle1.circlearea(r)\n",
    "        circle1.circleperi(r)\n",
    "    else:\n",
    "        print(\"Existing...\")\n",
    "        break"
   ]
  },
  {
   "cell_type": "code",
   "execution_count": null,
   "id": "19d6538f",
   "metadata": {},
   "outputs": [],
   "source": []
  },
  {
   "cell_type": "code",
   "execution_count": null,
   "id": "4f701a37",
   "metadata": {},
   "outputs": [],
   "source": []
  }
 ],
 "metadata": {
  "kernelspec": {
   "display_name": "Python 3 (ipykernel)",
   "language": "python",
   "name": "python3"
  },
  "language_info": {
   "codemirror_mode": {
    "name": "ipython",
    "version": 3
   },
   "file_extension": ".py",
   "mimetype": "text/x-python",
   "name": "python",
   "nbconvert_exporter": "python",
   "pygments_lexer": "ipython3",
   "version": "3.11.4"
  }
 },
 "nbformat": 4,
 "nbformat_minor": 5
}
