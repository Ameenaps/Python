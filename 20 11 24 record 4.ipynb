{
 "cells": [
  {
   "cell_type": "code",
   "execution_count": 4,
   "id": "0547869e",
   "metadata": {},
   "outputs": [
    {
     "name": "stdout",
     "output_type": "stream",
     "text": [
      "Enter a line of text:hello java hello program\n",
      "Occurence of word: {'hello': 2, 'java': 1, 'program': 1}\n"
     ]
    }
   ],
   "source": [
    "#COUNT THE LINE OF TEXT\n",
    "str=input(\"Enter a line of text:\").split()\n",
    "print(\"Occurence of word:\",{word:str.count (word)for word in str})"
   ]
  },
  {
   "cell_type": "code",
   "execution_count": 6,
   "id": "dc41f311",
   "metadata": {},
   "outputs": [
    {
     "name": "stdout",
     "output_type": "stream",
     "text": [
      "Enter the list of integers(separated by space)234 55 67 302\n",
      "After storing: ['over', 55, 67, 'over']\n"
     ]
    }
   ],
   "source": [
    "#LIST OF INTEGERS\n",
    "n=input(\"Enter the list of integers(separated by space)\").split()\n",
    "print(\"After storing:\",[int(x) if int(x)<100 else \"over\" for x in n])"
   ]
  },
  {
   "cell_type": "code",
   "execution_count": 10,
   "id": "fa04084d",
   "metadata": {},
   "outputs": [
    {
     "name": "stdout",
     "output_type": "stream",
     "text": [
      "Enter the list of first names:ameena,aneesa,rashika,aysha,jovina\n",
      "The total number of 'a's in the list are: 9\n"
     ]
    }
   ],
   "source": [
    "#STORE LIST OF FIRST NAMES\n",
    "n=input(\"Enter the list of first names:\").split(',')\n",
    "total_count=0\n",
    "for name in n:\n",
    "    total_count += name.lower().count('a')\n",
    "print(\"The total number of 'a's in the list are:\",total_count)"
   ]
  },
  {
   "cell_type": "code",
   "execution_count": 16,
   "id": "9831dbf9",
   "metadata": {},
   "outputs": [
    {
     "name": "stdout",
     "output_type": "stream",
     "text": [
      "Enter the first list of integers:1,2,3,4\n",
      "Enter the second list of integers:5,6,2,1\n",
      "The list are of the same length: True\n",
      "The list that are having same sum: False\n",
      "The list with same value: {1, 2}\n"
     ]
    }
   ],
   "source": [
    "#ENTER TWO LISTS OF INTEGERS\n",
    "a=list(map(int,input(\"Enter the first list of integers:\").split(',')))\n",
    "b=list(map(int,input(\"Enter the second list of integers:\").split(',')))\n",
    "same_length=len(a)==len(b)\n",
    "same_sum=sum(a)==sum(b)\n",
    "same_value=set(a).intersection(b)\n",
    "print(\"The list are of the same length:\",same_length)\n",
    "print(\"The list that are having same sum:\",same_sum)\n",
    "print(\"The list with same value:\",same_value)"
   ]
  },
  {
   "cell_type": "code",
   "execution_count": 34,
   "id": "38fc9d13",
   "metadata": {
    "scrolled": true
   },
   "outputs": [
    {
     "name": "stdout",
     "output_type": "stream",
     "text": [
      "Enter a list of integers:1,-5,6,3,4\n",
      "Enter a word:hello\n",
      "Positive numbers: [1, 6, 3, 4]\n",
      "Square of N number: [1, 25, 36, 9, 16]\n",
      "Vowels in a word: ['e', 'o']\n",
      "Ordinal values of word: [104, 101, 108, 108, 111]\n"
     ]
    }
   ],
   "source": [
    "#LIST COMPREHENSIONS\n",
    "n=list(map(int,input(\"Enter a list of integers:\").split(',')))\n",
    "word=input(\"Enter a word:\")\n",
    "positive_numbers=[num for num in n if num > 0]\n",
    "print(\"Positive numbers:\",positive_numbers)\n",
    "square=[i**2 for i in n]\n",
    "print(\"Square of N number:\",square)\n",
    "vowels=[char for char in word if char in'aeiouAEIOU']\n",
    "print(\"Vowels in a word:\",vowels)\n",
    "ordinals=[ord(char) for char in word]\n",
    "print(\"Ordinal values of word:\",ordinals)"
   ]
  },
  {
   "cell_type": "code",
   "execution_count": null,
   "id": "4bc3baf2",
   "metadata": {},
   "outputs": [],
   "source": []
  },
  {
   "cell_type": "code",
   "execution_count": null,
   "id": "8cf9aaa3",
   "metadata": {},
   "outputs": [],
   "source": []
  }
 ],
 "metadata": {
  "kernelspec": {
   "display_name": "Python 3 (ipykernel)",
   "language": "python",
   "name": "python3"
  },
  "language_info": {
   "codemirror_mode": {
    "name": "ipython",
    "version": 3
   },
   "file_extension": ".py",
   "mimetype": "text/x-python",
   "name": "python",
   "nbconvert_exporter": "python",
   "pygments_lexer": "ipython3",
   "version": "3.11.4"
  }
 },
 "nbformat": 4,
 "nbformat_minor": 5
}
