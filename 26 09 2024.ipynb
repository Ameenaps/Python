{
 "cells": [
  {
   "cell_type": "code",
   "execution_count": 1,
   "id": "4e93ea53",
   "metadata": {},
   "outputs": [
    {
     "name": "stdout",
     "output_type": "stream",
     "text": [
      "Enter the side of the square4\n",
      "area= 16\n"
     ]
    }
   ],
   "source": [
    "a=int(input(\"Enter the side of the square\"))\n",
    "area=a*a\n",
    "print(\"area=\",area)"
   ]
  },
  {
   "cell_type": "code",
   "execution_count": 3,
   "id": "7b125ca3",
   "metadata": {},
   "outputs": [
    {
     "name": "stdout",
     "output_type": "stream",
     "text": [
      "Enter the base of the triangle2\n",
      "Enter the height of the triangle4\n",
      "area= 4.0\n"
     ]
    }
   ],
   "source": [
    "a=int(input(\"Enter the base of the triangle\"))\n",
    "b=int(input(\"Enter the height of the triangle\"))\n",
    "area=(a*b)/2\n",
    "print(\"area=\",area)"
   ]
  },
  {
   "cell_type": "code",
   "execution_count": 7,
   "id": "ab623ffc",
   "metadata": {},
   "outputs": [
    {
     "name": "stdout",
     "output_type": "stream",
     "text": [
      "Enter your name:Ameena\n",
      "Hello Ameena !\n"
     ]
    }
   ],
   "source": [
    "name=input(\"Enter your name:\")\n",
    "print(\"Hello\",name,\"!\")\n",
    "      "
   ]
  },
  {
   "cell_type": "code",
   "execution_count": 8,
   "id": "102d8d48",
   "metadata": {},
   "outputs": [
    {
     "name": "stdout",
     "output_type": "stream",
     "text": [
      "Enter an integer5\n",
      "The previous number is 4\n",
      "The next number is 6\n"
     ]
    }
   ],
   "source": [
    "a=int(input(\"Enter an integer\"))\n",
    "previous_number=a-1\n",
    "next_number=a+1\n",
    "print(\"The previous number is\",previous_number)\n",
    "print(\"The next number is\",next_number)"
   ]
  },
  {
   "cell_type": "code",
   "execution_count": 9,
   "id": "a1776f13",
   "metadata": {},
   "outputs": [
    {
     "name": "stdout",
     "output_type": "stream",
     "text": [
      "Enter the amount:1000\n",
      "Enter the rate of interest:5\n",
      "Enter the time period in years:1.5\n",
      "The result is 75.0\n"
     ]
    }
   ],
   "source": [
    "P=int(input(\"Enter the amount:\"))\n",
    "r=int(input(\"Enter the rate of interest:\"))\n",
    "t=float(input(\"Enter the time period in years:\"))\n",
    "SI=(P*r*t)/100\n",
    "print(\"The result is\",SI)"
   ]
  },
  {
   "cell_type": "code",
   "execution_count": null,
   "id": "76d08f54",
   "metadata": {},
   "outputs": [],
   "source": []
  }
 ],
 "metadata": {
  "kernelspec": {
   "display_name": "Python 3 (ipykernel)",
   "language": "python",
   "name": "python3"
  },
  "language_info": {
   "codemirror_mode": {
    "name": "ipython",
    "version": 3
   },
   "file_extension": ".py",
   "mimetype": "text/x-python",
   "name": "python",
   "nbconvert_exporter": "python",
   "pygments_lexer": "ipython3",
   "version": "3.11.4"
  }
 },
 "nbformat": 4,
 "nbformat_minor": 5
}

