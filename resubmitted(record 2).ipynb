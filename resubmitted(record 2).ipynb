{
 "cells": [
  {
   "cell_type": "code",
   "execution_count": 3,
   "id": "5479d765",
   "metadata": {},
   "outputs": [
    {
     "name": "stdout",
     "output_type": "stream",
     "text": [
      "Enter the Temperature in Celsius:24\n",
      "The temperature in Fahrenheit: 75.2\n"
     ]
    }
   ],
   "source": [
    "#CELSIUS TO FAHRENHEIT\n",
    "T=int(input(\"Enter the Temperature in Celsius:\"))\n",
    "F=T*9/5+32\n",
    "print(\"The temperature in Fahrenheit:\",F)"
   ]
  },
  {
   "cell_type": "markdown",
   "id": "6cfc4f9e",
   "metadata": {},
   "source": [
    "#KILOMETERS TO MILES\n",
    "a=float(input(\"Enter the kilometers:\"))\n",
    "b=a*(0.62137)\n",
    "print(\"{} is equal to {}\".format(a,b))\n"
   ]
  },
  {
   "cell_type": "code",
   "execution_count": 1,
   "id": "5f85a8a0",
   "metadata": {},
   "outputs": [
    {
     "name": "stdout",
     "output_type": "stream",
     "text": [
      "Enter the kilometers:4\n",
      "4.0 is equal to 2.48548\n"
     ]
    }
   ],
   "source": [
    "#KILOMETERS TO FILES\n",
    "a=float(input(\"Enter the kilometers:\"))\n",
    "b=a*(0.62137)\n",
    "print(\"{} is equal to {}\".format (a,b))"
   ]
  },
  {
   "cell_type": "code",
   "execution_count": 3,
   "id": "db2bb364",
   "metadata": {},
   "outputs": [
    {
     "name": "stdout",
     "output_type": "stream",
     "text": [
      "Enter the price of product A :100\n",
      "Enter the price of product B :200\n",
      "Enter the price of product c :300\n",
      "final price (after 15% discount) : 510.0\n",
      "average price : 200.00\n",
      "Product A is more expensive than the final price : False\n",
      "Product B is more expensive than the final price : False\n",
      "Product C is more expensive than the final price : False\n",
      "final price is in range between 60 to 200 :False\n"
     ]
    }
   ],
   "source": [
    "#THREE PRODUCTS\n",
    "A=float(input(\"Enter the price of product A :\"))\n",
    "B=float(input(\"Enter the price of product B :\"))\n",
    "C=float(input(\"Enter the price of product c :\"))\n",
    "total_price=A+B+C;\n",
    "discount=total_price*0.15\n",
    "final_price=total_price-discount\n",
    "print(f\"final price (after 15% discount) : {final_price}\")\n",
    "avg_price=total_price/3;\n",
    "print(f\"average price : {avg_price:.2f}\")\n",
    "print(f\"Product A is more expensive than the final price : {A>final_price}\")\n",
    "print(f\"Product B is more expensive than the final price : {B>final_price}\")\n",
    "print(f\"Product C is more expensive than the final price : {C>final_price}\")\n",
    "print(f\"final price is in range between 60 to 200 :{final_price>60 and final_price<200}\")\n"
   ]
  },
  {
   "cell_type": "code",
   "execution_count": null,
   "id": "c0b16b31",
   "metadata": {},
   "outputs": [],
   "source": []
  }
 ],
 "metadata": {
  "kernelspec": {
   "display_name": "Python 3 (ipykernel)",
   "language": "python",
   "name": "python3"
  },
  "language_info": {
   "codemirror_mode": {
    "name": "ipython",
    "version": 3
   },
   "file_extension": ".py",
   "mimetype": "text/x-python",
   "name": "python",
   "nbconvert_exporter": "python",
   "pygments_lexer": "ipython3",
   "version": "3.11.4"
  }
 },
 "nbformat": 4,
 "nbformat_minor": 5
}
