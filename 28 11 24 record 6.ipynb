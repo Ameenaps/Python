{
 "cells": [
  {
   "cell_type": "code",
   "execution_count": 8,
   "id": "0b0cfee3",
   "metadata": {},
   "outputs": [
    {
     "name": "stdout",
     "output_type": "stream",
     "text": [
      "Enter the current year:2024\n",
      "Enter the final year:2032\n",
      "Leap years from 2024 to 2032:[2024, 2028, 2032]\n"
     ]
    }
   ],
   "source": [
    "#FINDING LEAP YEAR\n",
    "def leap_years(start_year,final_year):\n",
    "    leap_years_items=[]\n",
    "    for year in range(start_year,final_year +1):\n",
    "        if(year % 4==0 and year % 100!=0) or (year % 400==0):\n",
    "            leap_years_items.append(year)\n",
    "    return leap_years_items\n",
    "current_year=int(input(\"Enter the current year:\"))\n",
    "final_year=int(input(\"Enter the final year:\"))\n",
    "leap_years_items=leap_years(current_year,final_year)\n",
    "print(f\"Leap years from {current_year} to {final_year}:{leap_years_items}\")"
   ]
  },
  {
   "cell_type": "code",
   "execution_count": 13,
   "id": "f74bff1b",
   "metadata": {},
   "outputs": [
    {
     "name": "stdout",
     "output_type": "stream",
     "text": [
      "Enter a number:5\n",
      "The factorial of 5 is 120\n"
     ]
    }
   ],
   "source": [
    "#FACTORIAL OF A NUMBER\n",
    "def factorial(n):\n",
    "    if n == 0 or n == 1:\n",
    "        return 1\n",
    "    else:\n",
    "        return n * factorial(n-1)\n",
    "num=int(input(\"Enter a number:\"))\n",
    "print(f\"The factorial of {num} is {factorial(num)}\")\n",
    "   "
   ]
  },
  {
   "cell_type": "code",
   "execution_count": 22,
   "id": "4d900fa0",
   "metadata": {},
   "outputs": [
    {
     "name": "stdout",
     "output_type": "stream",
     "text": [
      "Enter the numbers of terms:7\n",
      "Fibonacci series with 7 terms:[0, 1, 1, 2, 3, 5, 8]\n"
     ]
    }
   ],
   "source": [
    "#FIBONACCI SERIES OF N TERMS\n",
    "def fibonacci_series(n):\n",
    "    fibonacci_series=[]\n",
    "    a,b=0,1\n",
    "    for _ in range(n):\n",
    "        fibonacci_series.append(a)\n",
    "        a,b = b,a + b\n",
    "    return fibonacci_series\n",
    "num_terms=int(input(\"Enter the numbers of terms:\"))\n",
    "print(f\"Fibonacci series with {num_terms} terms:{fibonacci_series(num_terms)}\")"
   ]
  },
  {
   "cell_type": "code",
   "execution_count": 26,
   "id": "8d04df79",
   "metadata": {},
   "outputs": [
    {
     "name": "stdout",
     "output_type": "stream",
     "text": [
      "Enter a list of words:this is python programming\n",
      "Length of longest word: 26\n"
     ]
    }
   ],
   "source": [
    "def longest_word_length(words):\n",
    "    return len(max(words, key=len))\n",
    "words=input(\"Enter a list of words:\").split(',')\n",
    "print(\"Length of longest word:\",longest_word_length(words))"
   ]
  },
  {
   "cell_type": "code",
   "execution_count": 4,
   "id": "d9fffa4a",
   "metadata": {},
   "outputs": [
    {
     "name": "stdout",
     "output_type": "stream",
     "text": [
      "* \n",
      "* * \n",
      "* * * \n",
      "* * * * \n",
      "* * * * * \n",
      "* * * * \n",
      "* * * \n",
      "* * \n",
      "* \n"
     ]
    }
   ],
   "source": [
    "#PYRAMID\n",
    "def print_upper_half(n):\n",
    "    for i in range(1,n+1):\n",
    "        for j in range(i):\n",
    "            print(\"*\",end=\" \")\n",
    "        print()\n",
    "def print_lower_half(n):\n",
    "    for i in range(n-1,0,-1):\n",
    "        for j in range(i):\n",
    "            print(\"*\",end=\" \")\n",
    "        print()\n",
    "def print_pattern(n):\n",
    "    print_upper_half(n)\n",
    "    print_lower_half(n)\n",
    "n=5\n",
    "print_pattern(n)\n"
   ]
  },
  {
   "cell_type": "code",
   "execution_count": 6,
   "id": "2d7bddd4",
   "metadata": {},
   "outputs": [
    {
     "name": "stdout",
     "output_type": "stream",
     "text": [
      "Enter a number :24\n",
      "Factors of 24 are:[1, 2, 3, 4, 6, 8, 12, 24]\n"
     ]
    }
   ],
   "source": [
    "#FACTORS OF A NUMBER\n",
    "def generate_factors(num):\n",
    "    factors=[]\n",
    "    for i in range(1,num+1):\n",
    "        if num % i == 0:\n",
    "            factors.append(i)\n",
    "    return factors\n",
    "num=int(input(\"Enter a number :\"))\n",
    "factors=generate_factors(num)\n",
    "print(f\"Factors of {num} are:{factors}\")"
   ]
  },
  {
   "cell_type": "code",
   "execution_count": 6,
   "id": "8ddd875d",
   "metadata": {},
   "outputs": [
    {
     "name": "stdout",
     "output_type": "stream",
     "text": [
      "Enter the number of steps(N):5\n",
      "1\n",
      "2\t4\n",
      "3\t6\t9\n",
      "4\t8\t12\t16\n",
      "5\t10\t15\t20\t25\n"
     ]
    }
   ],
   "source": [
    "#PYRAMID2\n",
    "def print_pyramid(N):\n",
    "    for i in range(1,N + 1):\n",
    "        row=[]\n",
    "        for j in range(1,i + 1):\n",
    "            row.append(i * j)\n",
    "        print(\"\\t\".join(map(str,row)))\n",
    "N=int(input(\"Enter the number of steps(N):\"))\n",
    "print_pyramid(N)\n"
   ]
  },
  {
   "cell_type": "code",
   "execution_count": 7,
   "id": "ab0bc05e",
   "metadata": {},
   "outputs": [
    {
     "name": "stdout",
     "output_type": "stream",
     "text": [
      "Enter the side:4\n",
      "Enter the length:7\n",
      "Enter the width:3\n",
      "Enter the base:6\n",
      "Enter the height:4\n",
      "Area of Square is :16\n",
      "Area of Rectangle is :21\n",
      "Area of Triangle is :12.0\n"
     ]
    }
   ],
   "source": [
    "#LAMBDA FUNCTIONS\n",
    "def area_of_square(side):\n",
    "    return side ** 2\n",
    "def area_of_rectangle(length,width):\n",
    "    return length * width\n",
    "def area_of_triangle(base,height):\n",
    "    return 0.5 * base * height\n",
    "\n",
    "a=int(input(\"Enter the side:\"))\n",
    "b=int(input(\"Enter the length:\"))\n",
    "c=int(input(\"Enter the width:\"))\n",
    "e=int(input(\"Enter the base:\"))\n",
    "f=int(input(\"Enter the height:\"))\n",
    "square_area=area_of_square(a)\n",
    "rectangle_area=area_of_rectangle(b,c)\n",
    "triangle_area=area_of_triangle(e,f)\n",
    "print(f\"Area of Square is :{square_area}\")\n",
    "print(f\"Area of Rectangle is :{rectangle_area}\")\n",
    "print(f\"Area of Triangle is :{triangle_area}\")\n"
   ]
  },
  {
   "cell_type": "code",
   "execution_count": null,
   "id": "98b54300",
   "metadata": {},
   "outputs": [],
   "source": []
  }
 ],
 "metadata": {
  "kernelspec": {
   "display_name": "Python 3 (ipykernel)",
   "language": "python",
   "name": "python3"
  },
  "language_info": {
   "codemirror_mode": {
    "name": "ipython",
    "version": 3
   },
   "file_extension": ".py",
   "mimetype": "text/x-python",
   "name": "python",
   "nbconvert_exporter": "python",
   "pygments_lexer": "ipython3",
   "version": "3.11.4"
  }
 },
 "nbformat": 4,
 "nbformat_minor": 5
}
