{
 "cells": [
  {
   "cell_type": "code",
   "execution_count": 11,
   "id": "6054f106",
   "metadata": {},
   "outputs": [
    {
     "name": "stdout",
     "output_type": "stream",
     "text": [
      "Enter an integer:5\n",
      "5+55+555=615\n"
     ]
    }
   ],
   "source": [
    "n=(input(\"Enter an integer:\"))\n",
    "result=int(n)+int(n*2)+int(n*3)\n",
    "print(f\"{n}+{n*2}+{n*3}={result}\")"
   ]
  },
  {
   "cell_type": "code",
   "execution_count": 14,
   "id": "c2a9ac24",
   "metadata": {},
   "outputs": [
    {
     "name": "stdout",
     "output_type": "stream",
     "text": [
      "Enter the radius:4\n",
      "The area is 50.24\n"
     ]
    }
   ],
   "source": [
    "#AREA OF A CIRCLE\n",
    "import math\n",
    "r=float(input(\"Enter the radius:\"))\n",
    "area=3.14*r**2\n",
    "print(\"The area is\",area)"
   ]
  },
  {
   "cell_type": "code",
   "execution_count": 15,
   "id": "ef8c19e8",
   "metadata": {},
   "outputs": [
    {
     "name": "stdout",
     "output_type": "stream",
     "text": [
      "Enter first number:5\n",
      "Enter second number:9\n",
      "Enter third number:2\n",
      "Biggest number is 9\n"
     ]
    }
   ],
   "source": [
    "#BIGGEST OF THREE NUMBERS\n",
    "import math\n",
    "a=int(input(\"Enter first number:\"))\n",
    "b=int(input(\"Enter second number:\"))\n",
    "c=int(input(\"Enter third number:\"))\n",
    "Biggest=max(a,b,c)\n",
    "print(\"Biggest number is\",Biggest)"
   ]
  },
  {
   "cell_type": "code",
   "execution_count": null,
   "id": "0b44adc1",
   "metadata": {},
   "outputs": [],
   "source": []
  }
 ],
 "metadata": {
  "kernelspec": {
   "display_name": "Python 3 (ipykernel)",
   "language": "python",
   "name": "python3"
  },
  "language_info": {
   "codemirror_mode": {
    "name": "ipython",
    "version": 3
   },
   "file_extension": ".py",
   "mimetype": "text/x-python",
   "name": "python",
   "nbconvert_exporter": "python",
   "pygments_lexer": "ipython3",
   "version": "3.11.4"
  }
 },
 "nbformat": 4,
 "nbformat_minor": 5
}
