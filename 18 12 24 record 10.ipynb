{
 "cells": [
  {
   "cell_type": "code",
   "execution_count": 1,
   "id": "9a97034b",
   "metadata": {},
   "outputs": [
    {
     "name": "stdout",
     "output_type": "stream",
     "text": [
      "Enter a number:3\n",
      "Error:Division by zero is not allowed:\n",
      "Program execution completed\n"
     ]
    }
   ],
   "source": [
    "try:\n",
    "    a=int(input(\"Enter a number:\"))\n",
    "    result=a/0\n",
    "except ZeroDivisionError:\n",
    "    print(\"Error:Division by zero is not allowed:\")\n",
    "except ValueError:\n",
    "    print(\"Error:invalid input.please enter numeric values\")\n",
    "else:\n",
    "    print(f\"result:{result}\")\n",
    "finally:\n",
    "    print(\"Program execution completed\")"
   ]
  },
  {
   "cell_type": "code",
   "execution_count": 2,
   "id": "92639e65",
   "metadata": {},
   "outputs": [
    {
     "name": "stdout",
     "output_type": "stream",
     "text": [
      "Enter a number:5\n",
      "result:1.25\n",
      "Program execution completed\n"
     ]
    }
   ],
   "source": [
    "try:\n",
    "    a=int(input(\"Enter a number:\"))\n",
    "    result=a/4\n",
    "except ZeroDivisionError:\n",
    "    print(\"Error:Division by zero is not allowed:\")\n",
    "except ValueError:\n",
    "    print(\"Error:invalid input.please enter numeric values\")\n",
    "else:\n",
    "    print(f\"result:{result}\")\n",
    "finally:\n",
    "    print(\"Program execution completed\")"
   ]
  },
  {
   "cell_type": "code",
   "execution_count": null,
   "id": "c0ca2d3e",
   "metadata": {},
   "outputs": [],
   "source": []
  }
 ],
 "metadata": {
  "kernelspec": {
   "display_name": "Python 3 (ipykernel)",
   "language": "python",
   "name": "python3"
  },
  "language_info": {
   "codemirror_mode": {
    "name": "ipython",
    "version": 3
   },
   "file_extension": ".py",
   "mimetype": "text/x-python",
   "name": "python",
   "nbconvert_exporter": "python",
   "pygments_lexer": "ipython3",
   "version": "3.11.4"
  }
 },
 "nbformat": 4,
 "nbformat_minor": 5
}
